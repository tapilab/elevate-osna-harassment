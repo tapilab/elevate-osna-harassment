{
 "cells": [
  {
   "cell_type": "code",
   "execution_count": 1,
   "metadata": {},
   "outputs": [],
   "source": [
    "# ['nigga', 'hate', 'love','ass','hell','better']\n",
    "# #accuracy over all cross-validation folds: [0.6317343173431734, 0.618450184501845, 0.6140221402214022, 0.622140221402214, 0.6137370753323486]\n",
    "# mean=0.62 std=0.01\n",
    "\n",
    "# ['nigga', 'hate', 'love','ass','hell','better','bitch','fuck','dick']\n",
    "# accuracy over all cross-validation folds: [0.6287822878228783, 0.6199261992619927, 0.6154981549815498, 0.6236162361623616, 0.6159527326440177]\n",
    "# mean=0.62 std=0.00\n",
    "\n",
    "# ['nigga', 'hate', 'love','ass','hell','better','bitch','fuck','dick','hey','shit','sexy','awesome']\n",
    "# accuracy over all cross-validation folds: [0.6501845018450184, 0.6789667896678967, 0.6516605166051661, 0.6494464944649446, 0.6676514032496307]\n",
    "# mean=0.66 std=0.01\n",
    "\n",
    "from collections import Counter\n",
    "import numpy as np\n",
    "import pandas as pd\n",
    "import re\n",
    "from sklearn.linear_model import LogisticRegression\n",
    "from sklearn.feature_extraction import DictVectorizer"
   ]
  },
  {
   "cell_type": "code",
   "execution_count": 102,
   "metadata": {
    "scrolled": true
   },
   "outputs": [],
   "source": [
    "def load_data(datafile):\n",
    "    \"\"\"\n",
    "    Read your data into a single pandas dataframe where\n",
    "    - each row is an instance to be classified\n",
    "    (this could be a tweet, user, or news article, depending on your project)\n",
    "    - there is a column called `label` which stores the class label (e.g., the true\n",
    "      category for this row)\n",
    "    \"\"\"\n",
    "    df = pd.read_csv(\"\\\\Users\\\\11977\\\\elevate-osna-harassment\\\\osna\\\\data.csv\")[['text', 'hostile']]\n",
    "    df.columns = ['text', 'label']\n",
    "    df['label'] = ['hostile' if i==1 else 'nonhostile' for i in df.label]\n",
    "   # df['directed'] = ['directed' if i==1 else 'nondirected' for i in df.directed]\n",
    "    return df\n"
   ]
  },
  {
   "cell_type": "code",
   "execution_count": 104,
   "metadata": {},
   "outputs": [],
   "source": [
    "df = load_data('~/Dropbox/elevate/harassment/training_data/data.csv.gz')\n"
   ]
  },
  {
   "cell_type": "code",
   "execution_count": 79,
   "metadata": {},
   "outputs": [
    {
     "data": {
      "text/plain": [
       "hostile       3588\n",
       "nonhostile    3186\n",
       "Name: label, dtype: int64"
      ]
     },
     "execution_count": 79,
     "metadata": {},
     "output_type": "execute_result"
    }
   ],
   "source": [
    "df.label.value_counts()"
   ]
  },
  {
   "cell_type": "code",
   "execution_count": 144,
   "metadata": {},
   "outputs": [],
   "source": [
    "def make_features(df):\n",
    "    vec = DictVectorizer()\n",
    "    feature_dicts = []\n",
    "    words_to_track = ['nigga', 'hate', 'love','ass','hell','better','bitch','fuck','dick','hey','shit','sexy','awesome']\n",
    "    # will get different model for different features.\n",
    "    #words_to_track = ['you']\n",
    "    for i,row in df.iterrows():\n",
    "        features = {}\n",
    "        token_counts = Counter(re.sub('\\W+', ' ', row['text'].lower()).split())\n",
    "        for w in words_to_track:\n",
    "            features[w] = token_counts[w]\n",
    "        feature_dicts.append(features)\n",
    "    X = vec.fit_transform(feature_dicts)\n",
    "    return X, vec\n",
    "                \n",
    "X, vec = make_features(df)"
   ]
  },
  {
   "cell_type": "code",
   "execution_count": 145,
   "metadata": {},
   "outputs": [
    {
     "data": {
      "text/plain": [
       "<6774x13 sparse matrix of type '<class 'numpy.float64'>'\n",
       "\twith 5840 stored elements in Compressed Sparse Row format>"
      ]
     },
     "execution_count": 145,
     "metadata": {},
     "output_type": "execute_result"
    }
   ],
   "source": [
    "X"
   ]
  },
  {
   "cell_type": "code",
   "execution_count": 146,
   "metadata": {},
   "outputs": [
    {
     "data": {
      "text/plain": [
       "(6774, 13)"
      ]
     },
     "execution_count": 146,
     "metadata": {},
     "output_type": "execute_result"
    }
   ],
   "source": [
    "X.shape"
   ]
  },
  {
   "cell_type": "code",
   "execution_count": 147,
   "metadata": {},
   "outputs": [
    {
     "data": {
      "text/plain": [
       "{'nigga': 10,\n",
       " 'hate': 6,\n",
       " 'love': 9,\n",
       " 'ass': 0,\n",
       " 'hell': 7,\n",
       " 'better': 2,\n",
       " 'bitch': 3,\n",
       " 'fuck': 5,\n",
       " 'dick': 4,\n",
       " 'hey': 8,\n",
       " 'shit': 12,\n",
       " 'sexy': 11,\n",
       " 'awesome': 1}"
      ]
     },
     "execution_count": 147,
     "metadata": {},
     "output_type": "execute_result"
    }
   ],
   "source": [
    "vec.vocabulary_"
   ]
  },
  {
   "cell_type": "code",
   "execution_count": 148,
   "metadata": {},
   "outputs": [
    {
     "data": {
      "text/plain": [
       "0.0"
      ]
     },
     "execution_count": 148,
     "metadata": {},
     "output_type": "execute_result"
    }
   ],
   "source": [
    "X[0,5]"
   ]
  },
  {
   "cell_type": "code",
   "execution_count": 149,
   "metadata": {},
   "outputs": [
    {
     "data": {
      "text/plain": [
       "410.0"
      ]
     },
     "execution_count": 149,
     "metadata": {},
     "output_type": "execute_result"
    }
   ],
   "source": [
    "X[:,3].sum()"
   ]
  },
  {
   "cell_type": "code",
   "execution_count": 150,
   "metadata": {},
   "outputs": [
    {
     "name": "stdout",
     "output_type": "stream",
     "text": [
      "               nigga\t2340\n",
      "                hate\t44\n",
      "                love\t129\n",
      "                 ass\t674\n",
      "                hell\t67\n",
      "              better\t101\n",
      "               bitch\t410\n",
      "                fuck\t923\n",
      "                dick\t153\n",
      "                 hey\t28\n",
      "                shit\t1184\n",
      "                sexy\t12\n",
      "             awesome\t11\n"
     ]
    }
   ],
   "source": [
    "for word, idx in vec.vocabulary_.items():\n",
    "    print('%20s\\t%d' % (word, X[:,idx].sum()))"
   ]
  },
  {
   "cell_type": "code",
   "execution_count": 151,
   "metadata": {},
   "outputs": [
    {
     "data": {
      "text/plain": [
       "['ass',\n",
       " 'awesome',\n",
       " 'better',\n",
       " 'bitch',\n",
       " 'dick',\n",
       " 'fuck',\n",
       " 'hate',\n",
       " 'hell',\n",
       " 'hey',\n",
       " 'love',\n",
       " 'nigga',\n",
       " 'sexy',\n",
       " 'shit']"
      ]
     },
     "execution_count": 151,
     "metadata": {},
     "output_type": "execute_result"
    }
   ],
   "source": [
    "vec.get_feature_names()"
   ]
  },
  {
   "cell_type": "code",
   "execution_count": 152,
   "metadata": {},
   "outputs": [
    {
     "data": {
      "text/plain": [
       "Counter({'nonhostile': 3186, 'hostile': 3588})"
      ]
     },
     "execution_count": 152,
     "metadata": {},
     "output_type": "execute_result"
    }
   ],
   "source": [
    "y = np.array(df.label)\n",
    "Counter(y)"
   ]
  },
  {
   "cell_type": "code",
   "execution_count": 153,
   "metadata": {},
   "outputs": [
    {
     "data": {
      "text/plain": [
       "array(['nonhostile', 'hostile', 'hostile'], dtype=object)"
      ]
     },
     "execution_count": 153,
     "metadata": {},
     "output_type": "execute_result"
    }
   ],
   "source": [
    "y[[0,5,12]]"
   ]
  },
  {
   "cell_type": "code",
   "execution_count": 154,
   "metadata": {},
   "outputs": [
    {
     "name": "stdout",
     "output_type": "stream",
     "text": [
      "               nigga\t             hostile\t922\n",
      "               nigga\t          nonhostile\t1418\n",
      "                hate\t             hostile\t20\n",
      "                hate\t          nonhostile\t24\n",
      "                love\t             hostile\t44\n",
      "                love\t          nonhostile\t85\n",
      "                 ass\t             hostile\t467\n",
      "                 ass\t          nonhostile\t207\n",
      "                hell\t             hostile\t38\n",
      "                hell\t          nonhostile\t29\n",
      "              better\t             hostile\t47\n",
      "              better\t          nonhostile\t54\n",
      "               bitch\t             hostile\t257\n",
      "               bitch\t          nonhostile\t153\n",
      "                fuck\t             hostile\t596\n",
      "                fuck\t          nonhostile\t327\n",
      "                dick\t             hostile\t106\n",
      "                dick\t          nonhostile\t47\n",
      "                 hey\t             hostile\t15\n",
      "                 hey\t          nonhostile\t13\n",
      "                shit\t             hostile\t480\n",
      "                shit\t          nonhostile\t704\n",
      "                sexy\t             hostile\t11\n",
      "                sexy\t          nonhostile\t1\n",
      "             awesome\t             hostile\t4\n",
      "             awesome\t          nonhostile\t7\n"
     ]
    }
   ],
   "source": [
    "class_names = set(df.label)\n",
    "for word, idx in vec.vocabulary_.items():\n",
    "    for class_name in class_names:\n",
    "        class_idx = np.where(y==class_name)[0]\n",
    "        print('%20s\\t%20s\\t%d' % (word, class_name, X[class_idx, idx].sum()))"
   ]
  },
  {
   "cell_type": "code",
   "execution_count": 155,
   "metadata": {},
   "outputs": [
    {
     "data": {
      "text/plain": [
       "LogisticRegression(C=1.0, class_weight=None, dual=False, fit_intercept=True,\n",
       "          intercept_scaling=1, max_iter=100, multi_class='auto',\n",
       "          n_jobs=None, penalty='l2', random_state=None, solver='lbfgs',\n",
       "          tol=0.0001, verbose=0, warm_start=False)"
      ]
     },
     "execution_count": 155,
     "metadata": {},
     "output_type": "execute_result"
    }
   ],
   "source": [
    "clf = LogisticRegression(solver='lbfgs', multi_class='auto')\n",
    "clf.fit(X, y)"
   ]
  },
  {
   "cell_type": "code",
   "execution_count": 156,
   "metadata": {},
   "outputs": [
    {
     "data": {
      "text/plain": [
       "array([[-0.60775075,  0.40264097,  0.20773768, -0.21272082, -0.50157786,\n",
       "        -0.30095793,  0.15584426, -0.28716009,  0.03647382,  0.8068743 ,\n",
       "         0.80506142, -1.05330857,  0.65753686]])"
      ]
     },
     "execution_count": 156,
     "metadata": {},
     "output_type": "execute_result"
    }
   ],
   "source": [
    "clf.coef_"
   ]
  },
  {
   "cell_type": "code",
   "execution_count": 157,
   "metadata": {},
   "outputs": [
    {
     "name": "stdout",
     "output_type": "stream",
     "text": [
      "[array([ 0.60775075, -0.40264097, -0.20773768,  0.21272082,  0.50157786,\n",
      "        0.30095793, -0.15584426,  0.28716009, -0.03647382, -0.8068743 ,\n",
      "       -0.80506142,  1.05330857, -0.65753686]), array([-0.60775075,  0.40264097,  0.20773768, -0.21272082, -0.50157786,\n",
      "       -0.30095793,  0.15584426, -0.28716009,  0.03647382,  0.8068743 ,\n",
      "        0.80506142, -1.05330857,  0.65753686])]\n"
     ]
    }
   ],
   "source": [
    "coef = [-clf.coef_[0], clf.coef_[0]]\n",
    "print(coef)"
   ]
  },
  {
   "cell_type": "code",
   "execution_count": 158,
   "metadata": {},
   "outputs": [
    {
     "data": {
      "text/plain": [
       "array(['hostile', 'nonhostile'], dtype=object)"
      ]
     },
     "execution_count": 158,
     "metadata": {},
     "output_type": "execute_result"
    }
   ],
   "source": [
    "clf.classes_"
   ]
  },
  {
   "cell_type": "code",
   "execution_count": 159,
   "metadata": {},
   "outputs": [
    {
     "name": "stdout",
     "output_type": "stream",
     "text": [
      "coefficients for hostile\n"
     ]
    },
    {
     "data": {
      "text/html": [
       "<div>\n",
       "<style scoped>\n",
       "    .dataframe tbody tr th:only-of-type {\n",
       "        vertical-align: middle;\n",
       "    }\n",
       "\n",
       "    .dataframe tbody tr th {\n",
       "        vertical-align: top;\n",
       "    }\n",
       "\n",
       "    .dataframe thead th {\n",
       "        text-align: right;\n",
       "    }\n",
       "</style>\n",
       "<table border=\"1\" class=\"dataframe\">\n",
       "  <thead>\n",
       "    <tr style=\"text-align: right;\">\n",
       "      <th></th>\n",
       "      <th>ass</th>\n",
       "      <th>awesome</th>\n",
       "      <th>better</th>\n",
       "      <th>bitch</th>\n",
       "      <th>dick</th>\n",
       "      <th>fuck</th>\n",
       "      <th>hate</th>\n",
       "      <th>hell</th>\n",
       "      <th>hey</th>\n",
       "      <th>love</th>\n",
       "      <th>nigga</th>\n",
       "      <th>sexy</th>\n",
       "      <th>shit</th>\n",
       "    </tr>\n",
       "  </thead>\n",
       "  <tbody>\n",
       "    <tr>\n",
       "      <th>0</th>\n",
       "      <td>0.607751</td>\n",
       "      <td>-0.402641</td>\n",
       "      <td>-0.207738</td>\n",
       "      <td>0.212721</td>\n",
       "      <td>0.501578</td>\n",
       "      <td>0.300958</td>\n",
       "      <td>-0.155844</td>\n",
       "      <td>0.28716</td>\n",
       "      <td>-0.036474</td>\n",
       "      <td>-0.806874</td>\n",
       "      <td>-0.805061</td>\n",
       "      <td>1.053309</td>\n",
       "      <td>-0.657537</td>\n",
       "    </tr>\n",
       "  </tbody>\n",
       "</table>\n",
       "</div>"
      ],
      "text/plain": [
       "        ass   awesome    better     bitch      dick      fuck      hate  \\\n",
       "0  0.607751 -0.402641 -0.207738  0.212721  0.501578  0.300958 -0.155844   \n",
       "\n",
       "      hell       hey      love     nigga      sexy      shit  \n",
       "0  0.28716 -0.036474 -0.806874 -0.805061  1.053309 -0.657537  "
      ]
     },
     "metadata": {},
     "output_type": "display_data"
    },
    {
     "name": "stdout",
     "output_type": "stream",
     "text": [
      "coefficients for nonhostile\n"
     ]
    },
    {
     "data": {
      "text/html": [
       "<div>\n",
       "<style scoped>\n",
       "    .dataframe tbody tr th:only-of-type {\n",
       "        vertical-align: middle;\n",
       "    }\n",
       "\n",
       "    .dataframe tbody tr th {\n",
       "        vertical-align: top;\n",
       "    }\n",
       "\n",
       "    .dataframe thead th {\n",
       "        text-align: right;\n",
       "    }\n",
       "</style>\n",
       "<table border=\"1\" class=\"dataframe\">\n",
       "  <thead>\n",
       "    <tr style=\"text-align: right;\">\n",
       "      <th></th>\n",
       "      <th>ass</th>\n",
       "      <th>awesome</th>\n",
       "      <th>better</th>\n",
       "      <th>bitch</th>\n",
       "      <th>dick</th>\n",
       "      <th>fuck</th>\n",
       "      <th>hate</th>\n",
       "      <th>hell</th>\n",
       "      <th>hey</th>\n",
       "      <th>love</th>\n",
       "      <th>nigga</th>\n",
       "      <th>sexy</th>\n",
       "      <th>shit</th>\n",
       "    </tr>\n",
       "  </thead>\n",
       "  <tbody>\n",
       "    <tr>\n",
       "      <th>0</th>\n",
       "      <td>-0.607751</td>\n",
       "      <td>0.402641</td>\n",
       "      <td>0.207738</td>\n",
       "      <td>-0.212721</td>\n",
       "      <td>-0.501578</td>\n",
       "      <td>-0.300958</td>\n",
       "      <td>0.155844</td>\n",
       "      <td>-0.28716</td>\n",
       "      <td>0.036474</td>\n",
       "      <td>0.806874</td>\n",
       "      <td>0.805061</td>\n",
       "      <td>-1.053309</td>\n",
       "      <td>0.657537</td>\n",
       "    </tr>\n",
       "  </tbody>\n",
       "</table>\n",
       "</div>"
      ],
      "text/plain": [
       "        ass   awesome    better     bitch      dick      fuck      hate  \\\n",
       "0 -0.607751  0.402641  0.207738 -0.212721 -0.501578 -0.300958  0.155844   \n",
       "\n",
       "      hell       hey      love     nigga      sexy      shit  \n",
       "0 -0.28716  0.036474  0.806874  0.805061 -1.053309  0.657537  "
      ]
     },
     "metadata": {},
     "output_type": "display_data"
    }
   ],
   "source": [
    "for ci, class_name in enumerate(clf.classes_):\n",
    "    print('coefficients for %s' % class_name)\n",
    "    display(pd.DataFrame([coef[ci]], columns=vec.get_feature_names()))"
   ]
  },
  {
   "cell_type": "code",
   "execution_count": 160,
   "metadata": {},
   "outputs": [
    {
     "name": "stdout",
     "output_type": "stream",
     "text": [
      "top features for class hostile\n",
      "                sexy\t1.05\n",
      "                 ass\t0.61\n",
      "                dick\t0.50\n",
      "                fuck\t0.30\n",
      "                hell\t0.29\n",
      "               bitch\t0.21\n",
      "                 hey\t-0.04\n",
      "                hate\t-0.16\n",
      "              better\t-0.21\n",
      "             awesome\t-0.40\n",
      "                shit\t-0.66\n",
      "               nigga\t-0.81\n",
      "                love\t-0.81\n",
      "top features for class nonhostile\n",
      "                love\t0.81\n",
      "               nigga\t0.81\n",
      "                shit\t0.66\n",
      "             awesome\t0.40\n",
      "              better\t0.21\n",
      "                hate\t0.16\n",
      "                 hey\t0.04\n",
      "               bitch\t-0.21\n",
      "                hell\t-0.29\n",
      "                fuck\t-0.30\n",
      "                dick\t-0.50\n",
      "                 ass\t-0.61\n",
      "                sexy\t-1.05\n"
     ]
    }
   ],
   "source": [
    "features = vec.get_feature_names()\n",
    "for ci, class_name in enumerate(clf.classes_):\n",
    "    print('top features for class %s' % class_name)\n",
    "    for fi in coef[ci].argsort()[::-1]: # descending order.\n",
    "        print('%20s\\t%.2f' % (features[fi], coef[ci][fi]))"
   ]
  },
  {
   "cell_type": "code",
   "execution_count": 161,
   "metadata": {},
   "outputs": [
    {
     "name": "stdout",
     "output_type": "stream",
     "text": [
      "accuracy over all cross-validation folds: [0.6501845018450184, 0.6789667896678967, 0.6516605166051661, 0.6494464944649446, 0.6676514032496307]\n",
      "mean=0.66 std=0.01\n"
     ]
    }
   ],
   "source": [
    "from sklearn.model_selection import KFold\n",
    "from sklearn.metrics import accuracy_score\n",
    "\n",
    "kf = KFold(n_splits=5, shuffle=True, random_state=42)\n",
    "accuracies = []\n",
    "for train, test in kf.split(X):\n",
    "    clf.fit(X[train], y[train])\n",
    "    pred = clf.predict(X[test])\n",
    "    accuracies.append(accuracy_score(y[test], pred))\n",
    "    \n",
    "    \n",
    "print('accuracy over all cross-validation folds: %s' % str(accuracies))\n",
    "print('mean=%.2f std=%.2f' % (np.mean(accuracies), np.std(accuracies)))"
   ]
  },
  {
   "cell_type": "code",
   "execution_count": null,
   "metadata": {},
   "outputs": [],
   "source": []
  }
 ],
 "metadata": {
  "kernelspec": {
   "display_name": "Python 3",
   "language": "python",
   "name": "python3"
  },
  "language_info": {
   "codemirror_mode": {
    "name": "ipython",
    "version": 3
   },
   "file_extension": ".py",
   "mimetype": "text/x-python",
   "name": "python",
   "nbconvert_exporter": "python",
   "pygments_lexer": "ipython3",
   "version": "3.7.3"
  }
 },
 "nbformat": 4,
 "nbformat_minor": 2
}
